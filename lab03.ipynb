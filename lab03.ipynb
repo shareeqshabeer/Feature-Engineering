{
  "nbformat": 4,
  "nbformat_minor": 0,
  "metadata": {
    "colab": {
      "provenance": []
    },
    "kernelspec": {
      "name": "python3",
      "display_name": "Python 3"
    },
    "language_info": {
      "name": "python"
    }
  },
  "cells": [
    {
      "cell_type": "code",
      "execution_count": 3,
      "metadata": {
        "colab": {
          "base_uri": "https://localhost:8080/"
        },
        "id": "gxlpWXBOGFG3",
        "outputId": "b7c9e968-1671-4ad6-d0ee-e1813d5b6aaa"
      },
      "outputs": [
        {
          "output_type": "stream",
          "name": "stdout",
          "text": [
            "Original Dataset:\n",
            "   Height  Weight\n",
            "0     150      50\n",
            "1     160      65\n",
            "2     170      75\n",
            "3     180      85\n",
            "4     190     100\n",
            "\n",
            "Normalized Dataset:\n",
            "   Height  Weight\n",
            "0    0.00     0.0\n",
            "1    0.25     0.3\n",
            "2    0.50     0.5\n",
            "3    0.75     0.7\n",
            "4    1.00     1.0\n"
          ]
        }
      ],
      "source": [
        "import pandas as pd\n",
        "\n",
        "# Example dataset\n",
        "\n",
        "data = {\n",
        "    'Height': [150, 160, 170, 180, 190],\n",
        "    'Weight': [50, 65, 75, 85, 100]\n",
        "}\n",
        "\n",
        "df = pd.DataFrame(data)\n",
        "print(\"Original Dataset:\")\n",
        "print(df)\n",
        "\n",
        "# Min-Max Normalization formula:\n",
        "# X_norm = (X - X_min) / (X_max - X_min)\n",
        "\n",
        "df['Height'] = (df['Height'] - df['Height'].min()) / (df['Height'].max() - df['Height'].min())\n",
        "\n",
        "df['Weight'] = (df['Weight'] - df['Weight'].min()) / (df['Weight'].max() - df['Weight'].min())\n",
        "\n",
        "print(\"\\nNormalized Dataset:\")\n",
        "print(df)"
      ]
    },
    {
      "cell_type": "code",
      "source": [],
      "metadata": {
        "id": "cYmQ30r2Gqao"
      },
      "execution_count": null,
      "outputs": []
    }
  ]
}
