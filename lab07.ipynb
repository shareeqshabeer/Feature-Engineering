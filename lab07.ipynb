{
  "nbformat": 4,
  "nbformat_minor": 0,
  "metadata": {
    "colab": {
      "provenance": []
    },
    "kernelspec": {
      "name": "python3",
      "display_name": "Python 3"
    },
    "language_info": {
      "name": "python"
    }
  },
  "cells": [
    {
      "cell_type": "code",
      "execution_count": null,
      "metadata": {
        "colab": {
          "base_uri": "https://localhost:8080/"
        },
        "id": "JG461lndziOX",
        "outputId": "8b91f149-488e-4dc6-d295-c5f394722a47"
      },
      "outputs": [
        {
          "output_type": "stream",
          "name": "stdout",
          "text": [
            "Original DataFrame:\n",
            "   X1  X2\n",
            "0   1   5\n",
            "1   2   4\n",
            "2   3   3\n",
            "3   4   2\n",
            "4   5   1\n"
          ]
        }
      ],
      "source": [
        "import pandas as pd\n",
        "\n",
        "# Create a sample dataset with two numerical columns\n",
        "data = {'X1': [1, 2, 3, 4, 5],\n",
        "        'X2': [5, 4, 3, 2, 1]}\n",
        "\n",
        "df = pd.DataFrame(data)\n",
        "\n",
        "# Print the original DataFrame\n",
        "print(\"Original DataFrame:\")\n",
        "print(df)"
      ]
    },
    {
      "cell_type": "code",
      "source": [
        "from sklearn.preprocessing import PolynomialFeatures\n",
        "\n",
        "# Initialize PolynomialFeatures with degree 2\n",
        "poly = PolynomialFeatures(degree=2, include_bias=False)\n",
        "\n",
        "# Fit and transform the data to create polynomial features\n",
        "poly_features = poly.fit_transform(df[['X1', 'X2']])\n",
        "\n",
        "# Convert the result back to a DataFrame with column names\n",
        "poly_df = pd.DataFrame(poly_features, columns=poly.get_feature_names_out(['X1', 'X2']))\n",
        "\n",
        "# Print the DataFrame with polynomial features\n",
        "print(\"\\nDataFrame with Polynomial Features:\")\n",
        "print(poly_df)"
      ],
      "metadata": {
        "colab": {
          "base_uri": "https://localhost:8080/"
        },
        "id": "gJvVWyM0zoBV",
        "outputId": "54d9dfab-2383-4447-b1a0-b0c656ab7f79"
      },
      "execution_count": null,
      "outputs": [
        {
          "output_type": "stream",
          "name": "stdout",
          "text": [
            "\n",
            "DataFrame with Polynomial Features:\n",
            "    X1   X2  X1^2  X1 X2  X2^2\n",
            "0  1.0  5.0   1.0    5.0  25.0\n",
            "1  2.0  4.0   4.0    8.0  16.0\n",
            "2  3.0  3.0   9.0    9.0   9.0\n",
            "3  4.0  2.0  16.0    8.0   4.0\n",
            "4  5.0  1.0  25.0    5.0   1.0\n"
          ]
        }
      ]
    },
    {
      "cell_type": "code",
      "source": [
        "# Manually create interaction term (X1 * X2)\n",
        "df['X1_X2_Interaction'] = df['X1'] * df['X2']\n",
        "\n",
        "# Print the DataFrame with the interaction feature\n",
        "print(\"\\nDataFrame with Interaction Feature:\")\n",
        "print(df)"
      ],
      "metadata": {
        "colab": {
          "base_uri": "https://localhost:8080/"
        },
        "id": "L0cd-FMEzt5f",
        "outputId": "461ada3b-64f3-4662-9ef1-b4adb597c13e"
      },
      "execution_count": null,
      "outputs": [
        {
          "output_type": "stream",
          "name": "stdout",
          "text": [
            "\n",
            "DataFrame with Interaction Feature:\n",
            "   X1  X2  X1_X2_Interaction\n",
            "0   1   5                  5\n",
            "1   2   4                  8\n",
            "2   3   3                  9\n",
            "3   4   2                  8\n",
            "4   5   1                  5\n"
          ]
        }
      ]
    },
    {
      "cell_type": "code",
      "source": [
        "# Combine both polynomial features and interaction feature\n",
        "final_df = pd.concat([poly_df, df[['X1_X2_Interaction']]], axis=1)\n",
        "\n",
        "# Print the final DataFrame\n",
        "print(\"\\nFinal DataFrame with Polynomial and Interaction Features:\")\n",
        "print(final_df)"
      ],
      "metadata": {
        "colab": {
          "base_uri": "https://localhost:8080/"
        },
        "id": "nhP-UW8iz_Z4",
        "outputId": "d7cd499f-0c2e-4aa2-a2b4-9649106b9822"
      },
      "execution_count": null,
      "outputs": [
        {
          "output_type": "stream",
          "name": "stdout",
          "text": [
            "\n",
            "Final DataFrame with Polynomial and Interaction Features:\n",
            "    X1   X2  X1^2  X1 X2  X2^2  X1_X2_Interaction\n",
            "0  1.0  5.0   1.0    5.0  25.0                  5\n",
            "1  2.0  4.0   4.0    8.0  16.0                  8\n",
            "2  3.0  3.0   9.0    9.0   9.0                  9\n",
            "3  4.0  2.0  16.0    8.0   4.0                  8\n",
            "4  5.0  1.0  25.0    5.0   1.0                  5\n"
          ]
        }
      ]
    }
  ]
}
