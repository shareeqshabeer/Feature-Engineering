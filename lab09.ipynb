{
  "nbformat": 4,
  "nbformat_minor": 0,
  "metadata": {
    "colab": {
      "provenance": []
    },
    "kernelspec": {
      "name": "python3",
      "display_name": "Python 3"
    },
    "language_info": {
      "name": "python"
    }
  },
  "cells": [
    {
      "cell_type": "code",
      "execution_count": null,
      "metadata": {
        "colab": {
          "base_uri": "https://localhost:8080/"
        },
        "id": "sZHWCMS72BVE",
        "outputId": "cbd6f329-a27b-4783-b678-aa094c9905e1"
      },
      "outputs": [
        {
          "output_type": "stream",
          "name": "stdout",
          "text": [
            "Original DataFrame:\n",
            "  Category  Gender\n",
            "0     Good    Male\n",
            "1   Better  Female\n",
            "2     Best    Male\n",
            "3     Good  Female\n",
            "4   Better    Male\n",
            "\n",
            "DataFrame after One-Hot Encoding:\n",
            "   Category_Best  Category_Better  Category_Good  Gender_Female  Gender_Male\n",
            "0          False            False           True          False         True\n",
            "1          False             True          False           True        False\n",
            "2           True            False          False          False         True\n",
            "3          False            False           True           True        False\n",
            "4          False             True          False          False         True\n"
          ]
        }
      ],
      "source": [
        "import pandas as pd\n",
        "\n",
        "# Sample data\n",
        "data = {'Category': ['Good', 'Better', 'Best', 'Good', 'Better'],\n",
        "        'Gender': ['Male', 'Female', 'Male', 'Female', 'Male']}\n",
        "\n",
        "# Create DataFrame\n",
        "df = pd.DataFrame(data)\n",
        "\n",
        "# Display original DataFrame\n",
        "print(\"Original DataFrame:\")\n",
        "print(df)\n",
        "\n",
        "# Perform One-Hot Encoding using get_dummies()\n",
        "df_encoded = pd.get_dummies(df, columns=['Category', 'Gender'])\n",
        "\n",
        "# Display the DataFrame with One-Hot Encoded columns\n",
        "print(\"\\nDataFrame after One-Hot Encoding:\")\n",
        "print(df_encoded)\n"
      ]
    }
  ]
}
