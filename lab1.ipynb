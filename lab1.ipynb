{
  "nbformat": 4,
  "nbformat_minor": 0,
  "metadata": {
    "colab": {
      "provenance": []
    },
    "kernelspec": {
      "name": "python3",
      "display_name": "Python 3"
    },
    "language_info": {
      "name": "python"
    }
  },
  "cells": [
    {
      "cell_type": "code",
      "execution_count": 5,
      "metadata": {
        "colab": {
          "base_uri": "https://localhost:8080/"
        },
        "id": "VzuhDYa9CyYQ",
        "outputId": "d3d845cd-771d-49d5-c1ef-5dbdb4a2d158"
      },
      "outputs": [
        {
          "output_type": "stream",
          "name": "stdout",
          "text": [
            "Original DataFrame with Missing Values:\n",
            "    Age  Height  Weight Grade\n",
            "0  23.0     5.5    70.0     A\n",
            "1  25.0     5.8    80.0     B\n",
            "2   NaN     5.6     NaN     C\n",
            "3  28.0     NaN    60.0     A\n",
            "4  22.0     5.9    65.0  None\n",
            "5   NaN     5.7     NaN     B\n",
            "\n",
            "Columns with missing values:\n",
            "Age       2\n",
            "Height    1\n",
            "Weight    2\n",
            "Grade     1\n",
            "dtype: int64\n",
            "\n",
            "DataFrame after handling missing values:\n",
            "    Age  Height  Weight Grade\n",
            "0  23.0     5.5   70.00     A\n",
            "1  25.0     5.8   80.00     B\n",
            "2  24.5     5.6   68.75     C\n",
            "3  28.0     5.7   60.00     A\n",
            "4  22.0     5.9   65.00     A\n",
            "5  24.5     5.7   68.75     B\n"
          ]
        },
        {
          "output_type": "stream",
          "name": "stderr",
          "text": [
            "/tmp/ipython-input-2974453587.py:24: FutureWarning: A value is trying to be set on a copy of a DataFrame or Series through chained assignment using an inplace method.\n",
            "The behavior will change in pandas 3.0. This inplace method will never work because the intermediate object on which we are setting values always behaves as a copy.\n",
            "\n",
            "For example, when doing 'df[col].method(value, inplace=True)', try using 'df.method({col: value}, inplace=True)' or df[col] = df[col].method(value) instead, to perform the operation inplace on the original object.\n",
            "\n",
            "\n",
            "  df['Age'].fillna(df['Age'].mean(), inplace=True)  # Fill missing 'Age' with the mean\n",
            "/tmp/ipython-input-2974453587.py:25: FutureWarning: A value is trying to be set on a copy of a DataFrame or Series through chained assignment using an inplace method.\n",
            "The behavior will change in pandas 3.0. This inplace method will never work because the intermediate object on which we are setting values always behaves as a copy.\n",
            "\n",
            "For example, when doing 'df[col].method(value, inplace=True)', try using 'df.method({col: value}, inplace=True)' or df[col] = df[col].method(value) instead, to perform the operation inplace on the original object.\n",
            "\n",
            "\n",
            "  df['Height'].fillna(df['Height'].median(), inplace=True)  # Fill missing 'Height' with the median\n",
            "/tmp/ipython-input-2974453587.py:26: FutureWarning: A value is trying to be set on a copy of a DataFrame or Series through chained assignment using an inplace method.\n",
            "The behavior will change in pandas 3.0. This inplace method will never work because the intermediate object on which we are setting values always behaves as a copy.\n",
            "\n",
            "For example, when doing 'df[col].method(value, inplace=True)', try using 'df.method({col: value}, inplace=True)' or df[col] = df[col].method(value) instead, to perform the operation inplace on the original object.\n",
            "\n",
            "\n",
            "  df['Weight'].fillna(df['Weight'].mean(), inplace=True)  # Fill missing 'Weight' with the mean\n",
            "/tmp/ipython-input-2974453587.py:29: FutureWarning: A value is trying to be set on a copy of a DataFrame or Series through chained assignment using an inplace method.\n",
            "The behavior will change in pandas 3.0. This inplace method will never work because the intermediate object on which we are setting values always behaves as a copy.\n",
            "\n",
            "For example, when doing 'df[col].method(value, inplace=True)', try using 'df.method({col: value}, inplace=True)' or df[col] = df[col].method(value) instead, to perform the operation inplace on the original object.\n",
            "\n",
            "\n",
            "  df['Grade'].fillna(df['Grade'].mode()[0], inplace=True)  # Fill missing 'Grade' with the mode\n"
          ]
        }
      ],
      "source": [
        "import pandas as pd\n",
        "\n",
        "data = {\n",
        "    'Age': [23, 25, None, 28, 22, None],\n",
        "    'Height': [5.5, 5.8, 5.6, None, 5.9, 5.7],\n",
        "    'Weight': [70, 80, None, 60, 65, None],\n",
        "    'Grade': ['A', 'B', 'C', 'A', None, 'B']\n",
        "}\n",
        "\n",
        "# Convert dictionary to DataFrame\n",
        "df = pd.DataFrame(data)\n",
        "\n",
        "# Display the original DataFrame\n",
        "print(\"Original DataFrame with Missing Values:\")\n",
        "print(df)\n",
        "\n",
        "# Step 1: Identify columns with missing values\n",
        "print(\"\\nColumns with missing values:\")\n",
        "print(df.isnull().sum())\n",
        "\n",
        "# Step 2: Fill missing values with mean/median/mode based on the column type\n",
        "\n",
        "# For numerical columns ('Age', 'Height', 'Weight'), we will fill with the mean or median\n",
        "df['Age'].fillna(df['Age'].mean(), inplace=True)  # Fill missing 'Age' with the mean\n",
        "df['Height'].fillna(df['Height'].median(), inplace=True)  # Fill missing 'Height' with the median\n",
        "df['Weight'].fillna(df['Weight'].mean(), inplace=True)  # Fill missing 'Weight' with the mean\n",
        "\n",
        "# For categorical columns ('Grade'), we will fill with the mode (most frequent value)\n",
        "df['Grade'].fillna(df['Grade'].mode()[0], inplace=True)  # Fill missing 'Grade' with the mode\n",
        "\n",
        "# Step 3: Display the updated DataFrame\n",
        "print(\"\\nDataFrame after handling missing values:\")\n",
        "print(df)\n"
      ]
    },
    {
      "cell_type": "code",
      "source": [],
      "metadata": {
        "id": "IVGYF-o6EZrG"
      },
      "execution_count": null,
      "outputs": []
    }
  ]
}