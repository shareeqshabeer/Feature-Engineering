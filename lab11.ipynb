{
  "nbformat": 4,
  "nbformat_minor": 0,
  "metadata": {
    "colab": {
      "provenance": []
    },
    "kernelspec": {
      "name": "python3",
      "display_name": "Python 3"
    },
    "language_info": {
      "name": "python"
    }
  },
  "cells": [
    {
      "cell_type": "code",
      "execution_count": null,
      "metadata": {
        "id": "3bsardDy3q1t",
        "outputId": "7cdd2bf0-c888-488a-fc95-e457949df161",
        "colab": {
          "base_uri": "https://localhost:8080/"
        }
      },
      "outputs": [
        {
          "output_type": "stream",
          "name": "stderr",
          "text": [
            "[nltk_data] Downloading package punkt to /root/nltk_data...\n",
            "[nltk_data]   Package punkt is already up-to-date!\n",
            "[nltk_data] Downloading package punkt_tab to /root/nltk_data...\n",
            "[nltk_data]   Package punkt_tab is already up-to-date!\n",
            "[nltk_data] Downloading package stopwords to /root/nltk_data...\n",
            "[nltk_data]   Package stopwords is already up-to-date!\n"
          ]
        },
        {
          "output_type": "execute_result",
          "data": {
            "text/plain": [
              "True"
            ]
          },
          "metadata": {},
          "execution_count": 5
        }
      ],
      "source": [
        "import pandas as pd\n",
        "import nltk\n",
        "from nltk.tokenize import word_tokenize\n",
        "from nltk.corpus import stopwords\n",
        "import string\n",
        "from nltk.stem import PorterStemmer\n",
        "\n",
        "# Download required resources\n",
        "nltk.download('punkt')\n",
        "nltk.download('punkt_tab')\n",
        "nltk.download('stopwords')"
      ]
    },
    {
      "cell_type": "code",
      "source": [
        "# Sample dataset\n",
        "data = {'Text': ['Running is fun and healthy.',\n",
        "                 'I love playing football, especially in the morning.',\n",
        "                 'They are running faster than anyone else.',\n",
        "                 'We enjoy coding and solving problems.']}\n",
        "\n",
        "# Create DataFrame\n",
        "df = pd.DataFrame(data)\n",
        "\n",
        "# Display the original DataFrame\n",
        "print(\"Original DataFrame:\")\n",
        "print(df)"
      ],
      "metadata": {
        "id": "vzA3_z8l3sxR",
        "outputId": "220cf072-261b-405c-c7a1-773d0dedec78",
        "colab": {
          "base_uri": "https://localhost:8080/"
        }
      },
      "execution_count": null,
      "outputs": [
        {
          "output_type": "stream",
          "name": "stdout",
          "text": [
            "Original DataFrame:\n",
            "                                                Text\n",
            "0                        Running is fun and healthy.\n",
            "1  I love playing football, especially in the mor...\n",
            "2          They are running faster than anyone else.\n",
            "3              We enjoy coding and solving problems.\n"
          ]
        }
      ]
    },
    {
      "cell_type": "code",
      "source": [
        "# Initialize the Porter Stemmer\n",
        "stemmer = PorterStemmer()\n",
        "\n",
        "# Define a function for preprocessing and stemming\n",
        "def preprocess_and_stem(text):\n",
        "    # Convert text to lowercase\n",
        "    text = text.lower()\n",
        "\n",
        "    # Remove punctuation\n",
        "    text = text.translate(str.maketrans(\"\", \"\", string.punctuation))\n",
        "\n",
        "    # Tokenize the text\n",
        "    tokens = word_tokenize(text)\n",
        "\n",
        "    # Remove stopwords\n",
        "    stop_words = set(stopwords.words('english'))\n",
        "    tokens = [word for word in tokens if word not in stop_words]\n",
        "\n",
        "    # Apply stemming\n",
        "    stemmed_tokens = [stemmer.stem(word) for word in tokens]\n",
        "\n",
        "    return stemmed_tokens\n",
        "\n",
        "# Apply the preprocessing function to the 'Text' column\n",
        "df['Stemmed_Text'] = df['Text'].apply(preprocess_and_stem)\n",
        "\n",
        "# Display the DataFrame with stemmed text\n",
        "print(\"\\nDataFrame after Stemming:\")\n",
        "print(df)"
      ],
      "metadata": {
        "id": "oUvZEG7h3y3B",
        "outputId": "759742ee-7885-4fc8-db50-3775bc773af2",
        "colab": {
          "base_uri": "https://localhost:8080/"
        }
      },
      "execution_count": null,
      "outputs": [
        {
          "output_type": "stream",
          "name": "stdout",
          "text": [
            "\n",
            "DataFrame after Stemming:\n",
            "                                                Text  \\\n",
            "0                        Running is fun and healthy.   \n",
            "1  I love playing football, especially in the mor...   \n",
            "2          They are running faster than anyone else.   \n",
            "3              We enjoy coding and solving problems.   \n",
            "\n",
            "                          Stemmed_Text  \n",
            "0                  [run, fun, healthi]  \n",
            "1  [love, play, footbal, especi, morn]  \n",
            "2            [run, faster, anyon, els]  \n",
            "3         [enjoy, code, solv, problem]  \n"
          ]
        }
      ]
    },
    {
      "cell_type": "code",
      "source": [],
      "metadata": {
        "id": "MaEAw3wX31MZ"
      },
      "execution_count": null,
      "outputs": []
    }
  ]
}