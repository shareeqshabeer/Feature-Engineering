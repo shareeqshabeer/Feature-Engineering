{
  "nbformat": 4,
  "nbformat_minor": 0,
  "metadata": {
    "colab": {
      "provenance": []
    },
    "kernelspec": {
      "name": "python3",
      "display_name": "Python 3"
    },
    "language_info": {
      "name": "python"
    }
  },
  "cells": [
    {
      "cell_type": "code",
      "execution_count": null,
      "metadata": {
        "id": "UhlQOV9Y4vlk"
      },
      "outputs": [],
      "source": [
        "import pandas as pd\n",
        "from sklearn.feature_extraction.text import CountVectorizer"
      ]
    },
    {
      "cell_type": "code",
      "source": [
        "# Sample dataset\n",
        "data = {'Text': ['I love programming in Python.',\n",
        "                 'Python is awesome for data science.',\n",
        "                 'I love solving problems with Python.',\n",
        "                 'Data science is a growing field.']}\n",
        "\n",
        "# Create DataFrame\n",
        "df = pd.DataFrame(data)\n",
        "\n",
        "# Display original DataFrame\n",
        "print(\"Original DataFrame:\")\n",
        "print(df)"
      ],
      "metadata": {
        "colab": {
          "base_uri": "https://localhost:8080/"
        },
        "id": "3vKynB2q4wQV",
        "outputId": "50ecaef2-aded-4faa-8d1b-793d37fbc9d7"
      },
      "execution_count": null,
      "outputs": [
        {
          "output_type": "stream",
          "name": "stdout",
          "text": [
            "Original DataFrame:\n",
            "                                   Text\n",
            "0         I love programming in Python.\n",
            "1   Python is awesome for data science.\n",
            "2  I love solving problems with Python.\n",
            "3      Data science is a growing field.\n"
          ]
        }
      ]
    },
    {
      "cell_type": "code",
      "source": [
        "# Initialize the CountVectorizer\n",
        "vectorizer = CountVectorizer()\n",
        "\n",
        "# Fit and transform the text data to create the Bag-of-Words representation\n",
        "X = vectorizer.fit_transform(df['Text'])\n",
        "\n",
        "# Convert the result into a DataFrame for better visualization\n",
        "bow_df = pd.DataFrame(X.toarray(), columns=vectorizer.get_feature_names_out())\n",
        "\n",
        "# Display the Bag-of-Words DataFrame\n",
        "print(\"\\nBag-of-Words Representation:\")\n",
        "print(bow_df)"
      ],
      "metadata": {
        "colab": {
          "base_uri": "https://localhost:8080/"
        },
        "id": "dX8DDj3B4x8R",
        "outputId": "a3681df8-2d97-440e-c3cb-4c79e736c2da"
      },
      "execution_count": null,
      "outputs": [
        {
          "output_type": "stream",
          "name": "stdout",
          "text": [
            "\n",
            "Bag-of-Words Representation:\n",
            "   awesome  data  field  for  growing  in  is  love  problems  programming  \\\n",
            "0        0     0      0    0        0   1   0     1         0            1   \n",
            "1        1     1      0    1        0   0   1     0         0            0   \n",
            "2        0     0      0    0        0   0   0     1         1            0   \n",
            "3        0     1      1    0        1   0   1     0         0            0   \n",
            "\n",
            "   python  science  solving  with  \n",
            "0       1        0        0     0  \n",
            "1       1        1        0     0  \n",
            "2       1        0        1     1  \n",
            "3       0        1        0     0  \n"
          ]
        }
      ]
    },
    {
      "cell_type": "code",
      "source": [
        "'''\n",
        "(Optional) Remove Stopwords\n",
        "\n",
        "If you want to improve your Bag-of-Words model by removing common words that don't add much value (like \"the\", \"is\", \"in\"),\n",
        "you can use the stop_words='english' option in CountVectorizer.\n",
        "\n",
        "'''\n",
        "\n",
        "# Initialize CountVectorizer with stopwords removal\n",
        "vectorizer = CountVectorizer(stop_words='english')\n",
        "\n",
        "# Fit and transform the text data\n",
        "X = vectorizer.fit_transform(df['Text'])\n",
        "\n",
        "# Convert to a DataFrame\n",
        "bow_df = pd.DataFrame(X.toarray(), columns=vectorizer.get_feature_names_out())\n",
        "\n",
        "# Display the modified Bag-of-Words DataFrame\n",
        "print(\"\\nBag-of-Words Representation with Stopwords Removed:\")\n",
        "print(bow_df)\n"
      ],
      "metadata": {
        "colab": {
          "base_uri": "https://localhost:8080/"
        },
        "id": "fu9WSMUR4zsn",
        "outputId": "57801f45-3324-4643-e75e-959414f32721"
      },
      "execution_count": null,
      "outputs": [
        {
          "output_type": "stream",
          "name": "stdout",
          "text": [
            "\n",
            "Bag-of-Words Representation with Stopwords Removed:\n",
            "   awesome  data  field  growing  love  problems  programming  python  \\\n",
            "0        0     0      0        0     1         0            1       1   \n",
            "1        1     1      0        0     0         0            0       1   \n",
            "2        0     0      0        0     1         1            0       1   \n",
            "3        0     1      1        1     0         0            0       0   \n",
            "\n",
            "   science  solving  \n",
            "0        0        0  \n",
            "1        1        0  \n",
            "2        0        1  \n",
            "3        1        0  \n"
          ]
        }
      ]
    },
    {
      "cell_type": "code",
      "source": [],
      "metadata": {
        "id": "-mD1iwKg5GJW"
      },
      "execution_count": null,
      "outputs": []
    }
  ]
}