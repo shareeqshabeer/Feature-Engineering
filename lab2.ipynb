{
  "nbformat": 4,
  "nbformat_minor": 0,
  "metadata": {
    "colab": {
      "provenance": []
    },
    "kernelspec": {
      "name": "python3",
      "display_name": "Python 3"
    },
    "language_info": {
      "name": "python"
    }
  },
  "cells": [
    {
      "cell_type": "code",
      "execution_count": 1,
      "metadata": {
        "colab": {
          "base_uri": "https://localhost:8080/"
        },
        "id": "SGSygEtaFJta",
        "outputId": "86619b5f-6508-41e1-95be-fa9620623a52"
      },
      "outputs": [
        {
          "output_type": "stream",
          "name": "stdout",
          "text": [
            "Original DataFrame with Invalid Data Entries:\n",
            "             Name   Gender  Age\n",
            "0            John     Male   23\n",
            "1            Anna   Female   25\n",
            "2            None     Male   -1\n",
            "3  InvalidName123  Unknown   30\n",
            "4         Charlie     Male   22\n",
            "5                   Female  180\n",
            "\n",
            "Cleaned DataFrame after removing invalid entries:\n",
            "      Name  Gender  Age\n",
            "0     John    Male   23\n",
            "1     Anna  Female   25\n",
            "4  Charlie    Male   22\n"
          ]
        }
      ],
      "source": [
        "import pandas as pd\n",
        "\n",
        "data = {\n",
        "    'Name': ['John', 'Anna', None, 'InvalidName123', 'Charlie', ''],\n",
        "    'Gender': ['Male', 'Female', 'Male', 'Unknown', 'Male', 'Female'],\n",
        "    'Age': [23, 25, -1, 30, 22, 180]  # Age -1 is invalid, 180 is likely invalid for human age\n",
        "}\n",
        "\n",
        "# Convert dictionary to DataFrame\n",
        "df = pd.DataFrame(data)\n",
        "\n",
        "# Display the original DataFrame\n",
        "print(\"Original DataFrame with Invalid Data Entries:\")\n",
        "print(df)\n",
        "\n",
        "# Step 1: Identify invalid entries\n",
        "# Invalid Name: We assume that valid names should be non-null, non-empty, and should only contain letters.\n",
        "# Invalid Gender: 'Unknown' is invalid, we expect 'Male' or 'Female'.\n",
        "# Invalid Age: Age should be between 0 and 120.\n",
        "\n",
        "# Step 2: Remove invalid data for 'Name'\n",
        "# Invalid Name: Remove rows where 'Name' is null or contains non-alphabetical characters\n",
        "df = df[df['Name'].apply(lambda x: isinstance(x, str) and x.isalpha())]\n",
        "\n",
        "# Step 3: Remove invalid data for 'Gender'\n",
        "# Invalid Gender: Remove rows where 'Gender' is neither 'Male' nor 'Female'\n",
        "df = df[df['Gender'].isin(['Male', 'Female'])]\n",
        "\n",
        "# Step 4: Remove invalid data for 'Age'\n",
        "# Invalid Age: Remove rows where 'Age' is negative or unrealistically high (e.g., over 120)\n",
        "df = df[(df['Age'] >= 0) & (df['Age'] <= 120)]\n",
        "\n",
        "# Display the cleaned DataFrame\n",
        "print(\"\\nCleaned DataFrame after removing invalid entries:\")\n",
        "print(df)"
      ]
    }
  ]
}