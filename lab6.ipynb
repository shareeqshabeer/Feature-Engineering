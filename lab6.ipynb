{
  "nbformat": 4,
  "nbformat_minor": 0,
  "metadata": {
    "colab": {
      "provenance": []
    },
    "kernelspec": {
      "name": "python3",
      "display_name": "Python 3"
    },
    "language_info": {
      "name": "python"
    }
  },
  "cells": [
    {
      "cell_type": "code",
      "execution_count": null,
      "metadata": {
        "colab": {
          "base_uri": "https://localhost:8080/"
        },
        "id": "4RWOi52EwAg_",
        "outputId": "ec096034-9efd-4dc1-d3e5-4564e8201775"
      },
      "outputs": [
        {
          "output_type": "stream",
          "name": "stdout",
          "text": [
            "Original DataFrame:\n",
            "   Age\n",
            "0    5\n",
            "1   12\n",
            "2   25\n",
            "3   37\n",
            "4   45\n",
            "5   60\n",
            "6   72\n",
            "7   85\n",
            "8   90\n",
            "9  100\n"
          ]
        }
      ],
      "source": [
        "import pandas as pd\n",
        "\n",
        "# Create a sample DataFrame with a numerical column 'Age'\n",
        "data = {'Age': [5, 12, 25, 37, 45, 60, 72, 85, 90, 100]}\n",
        "df = pd.DataFrame(data)\n",
        "\n",
        "# Print the original DataFrame\n",
        "print(\"Original DataFrame:\")\n",
        "print(df)"
      ]
    },
    {
      "cell_type": "markdown",
      "source": [
        "# **# Equal width binning**"
      ],
      "metadata": {
        "id": "ibTcyvCDH5Su"
      }
    },
    {
      "cell_type": "code",
      "source": [
        "# Define bin edges (intervals)\n",
        "bins = [0, 20, 40, 60, 80, 100]\n",
        "\n",
        "# Define labels for the bins\n",
        "labels = ['0-20', '21-40', '41-60', '61-80', '81-100']\n",
        "\n",
        "# Use pd.cut() to bin the data\n",
        "df['Age Group'] = pd.cut(df['Age'], bins=bins, labels=labels, right=True)\n",
        "\n",
        "# Print the DataFrame with binned data\n",
        "print(\"\\nDataFrame with Binned Age Groups:\")\n",
        "print(df)"
      ],
      "metadata": {
        "colab": {
          "base_uri": "https://localhost:8080/"
        },
        "id": "p0vFo2rBwCTG",
        "outputId": "cce9791c-5c4e-4f98-929e-228e9cc7bac1"
      },
      "execution_count": null,
      "outputs": [
        {
          "output_type": "stream",
          "name": "stdout",
          "text": [
            "\n",
            "DataFrame with Binned Age Groups:\n",
            "   Age Age Group\n",
            "0    5      0-20\n",
            "1   12      0-20\n",
            "2   25     21-40\n",
            "3   37     21-40\n",
            "4   45     41-60\n",
            "5   60     41-60\n",
            "6   72     61-80\n",
            "7   85    81-100\n",
            "8   90    81-100\n",
            "9  100    81-100\n"
          ]
        }
      ]
    },
    {
      "cell_type": "markdown",
      "source": [
        "# **#Equal frequency binning**"
      ],
      "metadata": {
        "id": "sYl8kA4RIOhZ"
      }
    },
    {
      "cell_type": "code",
      "source": [
        "import pandas as pd\n",
        "\n",
        "# Create a sample DataFrame with a numerical column 'Age'\n",
        "data = {'Age': [5, 12, 25, 37, 45, 60, 72, 85, 90, 100]}\n",
        "df = pd.DataFrame(data)\n",
        "\n",
        "# Print the original DataFrame\n",
        "print(\"Original DataFrame:\")\n",
        "print(df)"
      ],
      "metadata": {
        "colab": {
          "base_uri": "https://localhost:8080/"
        },
        "id": "a4fj0oeHwZUv",
        "outputId": "98584fcd-d6a2-47cb-a9e9-98060317cb6b"
      },
      "execution_count": null,
      "outputs": [
        {
          "output_type": "stream",
          "name": "stdout",
          "text": [
            "Original DataFrame:\n",
            "   Age\n",
            "0    5\n",
            "1   12\n",
            "2   25\n",
            "3   37\n",
            "4   45\n",
            "5   60\n",
            "6   72\n",
            "7   85\n",
            "8   90\n",
            "9  100\n"
          ]
        }
      ]
    },
    {
      "cell_type": "code",
      "source": [
        "# Use qcut to create bins with equal frequency\n",
        "df['Age Group (Equal Frequency)'] = pd.qcut(df['Age'], q=5, labels=['Q1', 'Q2', 'Q3', 'Q4', 'Q5'])\n",
        "\n",
        "# Print the DataFrame with equal-frequency binned data\n",
        "print(\"\\nDataFrame with Equal Frequency Binned Age Groups:\")\n",
        "print(df)"
      ],
      "metadata": {
        "colab": {
          "base_uri": "https://localhost:8080/"
        },
        "id": "KyZsOoHuxdn3",
        "outputId": "adaa616a-bca0-4c49-c718-bb8a2b1368db"
      },
      "execution_count": null,
      "outputs": [
        {
          "output_type": "stream",
          "name": "stdout",
          "text": [
            "\n",
            "DataFrame with Equal Frequency Binned Age Groups:\n",
            "   Age Age Group (Equal Frequency)\n",
            "0    5                          Q1\n",
            "1   12                          Q1\n",
            "2   25                          Q2\n",
            "3   37                          Q2\n",
            "4   45                          Q3\n",
            "5   60                          Q3\n",
            "6   72                          Q4\n",
            "7   85                          Q4\n",
            "8   90                          Q5\n",
            "9  100                          Q5\n"
          ]
        }
      ]
    }
  ]
}